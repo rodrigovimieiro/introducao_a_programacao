{
  "nbformat": 4,
  "nbformat_minor": 0,
  "metadata": {
    "colab": {
      "provenance": [],
      "authorship_tag": "ABX9TyP/DEKTXQc9Xe6DRAugsvTw",
      "include_colab_link": true
    },
    "kernelspec": {
      "name": "python3",
      "display_name": "Python 3"
    },
    "language_info": {
      "name": "python"
    }
  },
  "cells": [
    {
      "cell_type": "markdown",
      "metadata": {
        "id": "view-in-github",
        "colab_type": "text"
      },
      "source": [
        "<a href=\"https://colab.research.google.com/github/rodrigovimieiro/introducao_a_programacao/blob/main/praticas/Aula_01.ipynb\" target=\"_parent\"><img src=\"https://colab.research.google.com/assets/colab-badge.svg\" alt=\"Open In Colab\"/></a>"
      ]
    },
    {
      "cell_type": "markdown",
      "source": [
        "# Curso: Introdução à Programação\n",
        "### Exercício 1\n"
      ],
      "metadata": {
        "id": "hEAsR2TU-ULW"
      }
    },
    {
      "cell_type": "code",
      "execution_count": 5,
      "metadata": {
        "id": "-prNy3Iq17pT",
        "colab": {
          "base_uri": "https://localhost:8080/"
        },
        "outputId": "dd9160f2-a63f-4f71-9b22-0ec442d3c7d2"
      },
      "outputs": [
        {
          "output_type": "stream",
          "name": "stdout",
          "text": [
            "O pneu está rasgado? (s/n): n\n",
            "Parando o carro...\n",
            "Pegando ferramentas...\n",
            "Trocando pneu...\n",
            "O pneu novo está ok? (s/n): s\n",
            "✅ Pneu trocado com sucesso! 👍\n"
          ]
        }
      ],
      "source": [
        "pneu_rasgado = input(\"O pneu está rasgado? (s/n): \").strip().lower()\n",
        "\n",
        "if pneu_rasgado == 's':\n",
        "  print(\"🚨 Pneu rasgado! Chamando o guincho... 👎\")\n",
        "else:\n",
        "  print(\"Parando o carro...\")\n",
        "  print(\"Pegando ferramentas...\")\n",
        "  print(\"Trocando pneu...\")\n",
        "\n",
        "  pneu_ok = input(\"O pneu novo está ok? (s/n): \").strip().lower()\n",
        "  if pneu_ok == 's':\n",
        "      print(\"✅ Pneu trocado com sucesso! 👍\")\n",
        "  else:\n",
        "      print(\"🚨 Pneu não está ok. Chamando o guincho... 👎\")"
      ]
    }
  ]
}